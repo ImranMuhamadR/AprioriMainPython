{
  "nbformat": 4,
  "nbformat_minor": 0,
  "metadata": {
    "colab": {
      "provenance": []
    },
    "kernelspec": {
      "name": "python3",
      "display_name": "Python 3"
    },
    "language_info": {
      "name": "python"
    },
    "widgets": {
      "application/vnd.jupyter.widget-state+json": {
        "0684b46ce702449980a7598b04ab1883": {
          "model_module": "@jupyter-widgets/output",
          "model_name": "OutputModel",
          "model_module_version": "1.0.0",
          "state": {
            "_dom_classes": [],
            "_model_module": "@jupyter-widgets/output",
            "_model_module_version": "1.0.0",
            "_model_name": "OutputModel",
            "_view_count": null,
            "_view_module": "@jupyter-widgets/output",
            "_view_module_version": "1.0.0",
            "_view_name": "OutputView",
            "layout": "IPY_MODEL_bfa8636d536c43edaabfa7c0c6920e19",
            "msg_id": "",
            "outputs": [
              {
                "output_type": "display_data",
                "data": {
                  "text/plain": "                                    Rule  Support  Confidence\n0   ['Celana Bahan'] -> ['Celana Chino']    26.23       57.14\n1  ['Celana Gembol'] -> ['Celana Chino']    22.95       60.87",
                  "text/html": "\n  <div id=\"df-77959f31-e105-4d49-be5b-51b17e798b89\" class=\"colab-df-container\">\n    <div>\n<style scoped>\n    .dataframe tbody tr th:only-of-type {\n        vertical-align: middle;\n    }\n\n    .dataframe tbody tr th {\n        vertical-align: top;\n    }\n\n    .dataframe thead th {\n        text-align: right;\n    }\n</style>\n<table border=\"1\" class=\"dataframe\">\n  <thead>\n    <tr style=\"text-align: right;\">\n      <th></th>\n      <th>Rule</th>\n      <th>Support</th>\n      <th>Confidence</th>\n    </tr>\n  </thead>\n  <tbody>\n    <tr>\n      <th>0</th>\n      <td>['Celana Bahan'] -&gt; ['Celana Chino']</td>\n      <td>26.23</td>\n      <td>57.14</td>\n    </tr>\n    <tr>\n      <th>1</th>\n      <td>['Celana Gembol'] -&gt; ['Celana Chino']</td>\n      <td>22.95</td>\n      <td>60.87</td>\n    </tr>\n  </tbody>\n</table>\n</div>\n    <div class=\"colab-df-buttons\">\n\n  <div class=\"colab-df-container\">\n    <button class=\"colab-df-convert\" onclick=\"convertToInteractive('df-77959f31-e105-4d49-be5b-51b17e798b89')\"\n            title=\"Convert this dataframe to an interactive table.\"\n            style=\"display:none;\">\n\n  <svg xmlns=\"http://www.w3.org/2000/svg\" height=\"24px\" viewBox=\"0 -960 960 960\">\n    <path d=\"M120-120v-720h720v720H120Zm60-500h600v-160H180v160Zm220 220h160v-160H400v160Zm0 220h160v-160H400v160ZM180-400h160v-160H180v160Zm440 0h160v-160H620v160ZM180-180h160v-160H180v160Zm440 0h160v-160H620v160Z\"/>\n  </svg>\n    </button>\n\n  <style>\n    .colab-df-container {\n      display:flex;\n      gap: 12px;\n    }\n\n    .colab-df-convert {\n      background-color: #E8F0FE;\n      border: none;\n      border-radius: 50%;\n      cursor: pointer;\n      display: none;\n      fill: #1967D2;\n      height: 32px;\n      padding: 0 0 0 0;\n      width: 32px;\n    }\n\n    .colab-df-convert:hover {\n      background-color: #E2EBFA;\n      box-shadow: 0px 1px 2px rgba(60, 64, 67, 0.3), 0px 1px 3px 1px rgba(60, 64, 67, 0.15);\n      fill: #174EA6;\n    }\n\n    .colab-df-buttons div {\n      margin-bottom: 4px;\n    }\n\n    [theme=dark] .colab-df-convert {\n      background-color: #3B4455;\n      fill: #D2E3FC;\n    }\n\n    [theme=dark] .colab-df-convert:hover {\n      background-color: #434B5C;\n      box-shadow: 0px 1px 3px 1px rgba(0, 0, 0, 0.15);\n      filter: drop-shadow(0px 1px 2px rgba(0, 0, 0, 0.3));\n      fill: #FFFFFF;\n    }\n  </style>\n\n    <script>\n      const buttonEl =\n        document.querySelector('#df-77959f31-e105-4d49-be5b-51b17e798b89 button.colab-df-convert');\n      buttonEl.style.display =\n        google.colab.kernel.accessAllowed ? 'block' : 'none';\n\n      async function convertToInteractive(key) {\n        const element = document.querySelector('#df-77959f31-e105-4d49-be5b-51b17e798b89');\n        const dataTable =\n          await google.colab.kernel.invokeFunction('convertToInteractive',\n                                                    [key], {});\n        if (!dataTable) return;\n\n        const docLinkHtml = 'Like what you see? Visit the ' +\n          '<a target=\"_blank\" href=https://colab.research.google.com/notebooks/data_table.ipynb>data table notebook</a>'\n          + ' to learn more about interactive tables.';\n        element.innerHTML = '';\n        dataTable['output_type'] = 'display_data';\n        await google.colab.output.renderOutput(dataTable, element);\n        const docLink = document.createElement('div');\n        docLink.innerHTML = docLinkHtml;\n        element.appendChild(docLink);\n      }\n    </script>\n  </div>\n\n\n<div id=\"df-b7293910-060a-40b8-860e-4f2b6715c110\">\n  <button class=\"colab-df-quickchart\" onclick=\"quickchart('df-b7293910-060a-40b8-860e-4f2b6715c110')\"\n            title=\"Suggest charts\"\n            style=\"display:none;\">\n\n<svg xmlns=\"http://www.w3.org/2000/svg\" height=\"24px\"viewBox=\"0 0 24 24\"\n     width=\"24px\">\n    <g>\n        <path d=\"M19 3H5c-1.1 0-2 .9-2 2v14c0 1.1.9 2 2 2h14c1.1 0 2-.9 2-2V5c0-1.1-.9-2-2-2zM9 17H7v-7h2v7zm4 0h-2V7h2v10zm4 0h-2v-4h2v4z\"/>\n    </g>\n</svg>\n  </button>\n\n<style>\n  .colab-df-quickchart {\n      --bg-color: #E8F0FE;\n      --fill-color: #1967D2;\n      --hover-bg-color: #E2EBFA;\n      --hover-fill-color: #174EA6;\n      --disabled-fill-color: #AAA;\n      --disabled-bg-color: #DDD;\n  }\n\n  [theme=dark] .colab-df-quickchart {\n      --bg-color: #3B4455;\n      --fill-color: #D2E3FC;\n      --hover-bg-color: #434B5C;\n      --hover-fill-color: #FFFFFF;\n      --disabled-bg-color: #3B4455;\n      --disabled-fill-color: #666;\n  }\n\n  .colab-df-quickchart {\n    background-color: var(--bg-color);\n    border: none;\n    border-radius: 50%;\n    cursor: pointer;\n    display: none;\n    fill: var(--fill-color);\n    height: 32px;\n    padding: 0;\n    width: 32px;\n  }\n\n  .colab-df-quickchart:hover {\n    background-color: var(--hover-bg-color);\n    box-shadow: 0 1px 2px rgba(60, 64, 67, 0.3), 0 1px 3px 1px rgba(60, 64, 67, 0.15);\n    fill: var(--button-hover-fill-color);\n  }\n\n  .colab-df-quickchart-complete:disabled,\n  .colab-df-quickchart-complete:disabled:hover {\n    background-color: var(--disabled-bg-color);\n    fill: var(--disabled-fill-color);\n    box-shadow: none;\n  }\n\n  .colab-df-spinner {\n    border: 2px solid var(--fill-color);\n    border-color: transparent;\n    border-bottom-color: var(--fill-color);\n    animation:\n      spin 1s steps(1) infinite;\n  }\n\n  @keyframes spin {\n    0% {\n      border-color: transparent;\n      border-bottom-color: var(--fill-color);\n      border-left-color: var(--fill-color);\n    }\n    20% {\n      border-color: transparent;\n      border-left-color: var(--fill-color);\n      border-top-color: var(--fill-color);\n    }\n    30% {\n      border-color: transparent;\n      border-left-color: var(--fill-color);\n      border-top-color: var(--fill-color);\n      border-right-color: var(--fill-color);\n    }\n    40% {\n      border-color: transparent;\n      border-right-color: var(--fill-color);\n      border-top-color: var(--fill-color);\n    }\n    60% {\n      border-color: transparent;\n      border-right-color: var(--fill-color);\n    }\n    80% {\n      border-color: transparent;\n      border-right-color: var(--fill-color);\n      border-bottom-color: var(--fill-color);\n    }\n    90% {\n      border-color: transparent;\n      border-bottom-color: var(--fill-color);\n    }\n  }\n</style>\n\n  <script>\n    async function quickchart(key) {\n      const quickchartButtonEl =\n        document.querySelector('#' + key + ' button');\n      quickchartButtonEl.disabled = true;  // To prevent multiple clicks.\n      quickchartButtonEl.classList.add('colab-df-spinner');\n      try {\n        const charts = await google.colab.kernel.invokeFunction(\n            'suggestCharts', [key], {});\n      } catch (error) {\n        console.error('Error during call to suggestCharts:', error);\n      }\n      quickchartButtonEl.classList.remove('colab-df-spinner');\n      quickchartButtonEl.classList.add('colab-df-quickchart-complete');\n    }\n    (() => {\n      let quickchartButtonEl =\n        document.querySelector('#df-b7293910-060a-40b8-860e-4f2b6715c110 button');\n      quickchartButtonEl.style.display =\n        google.colab.kernel.accessAllowed ? 'block' : 'none';\n    })();\n  </script>\n</div>\n\n  <div id=\"id_abe5c430-37d4-4eab-9a53-fe9ef5172f74\">\n    <style>\n      .colab-df-generate {\n        background-color: #E8F0FE;\n        border: none;\n        border-radius: 50%;\n        cursor: pointer;\n        display: none;\n        fill: #1967D2;\n        height: 32px;\n        padding: 0 0 0 0;\n        width: 32px;\n      }\n\n      .colab-df-generate:hover {\n        background-color: #E2EBFA;\n        box-shadow: 0px 1px 2px rgba(60, 64, 67, 0.3), 0px 1px 3px 1px rgba(60, 64, 67, 0.15);\n        fill: #174EA6;\n      }\n\n      [theme=dark] .colab-df-generate {\n        background-color: #3B4455;\n        fill: #D2E3FC;\n      }\n\n      [theme=dark] .colab-df-generate:hover {\n        background-color: #434B5C;\n        box-shadow: 0px 1px 3px 1px rgba(0, 0, 0, 0.15);\n        filter: drop-shadow(0px 1px 2px rgba(0, 0, 0, 0.3));\n        fill: #FFFFFF;\n      }\n    </style>\n    <button class=\"colab-df-generate\" onclick=\"generateWithVariable('df')\"\n            title=\"Generate code using this dataframe.\"\n            style=\"display:none;\">\n\n  <svg xmlns=\"http://www.w3.org/2000/svg\" height=\"24px\"viewBox=\"0 0 24 24\"\n       width=\"24px\">\n    <path d=\"M7,19H8.4L18.45,9,17,7.55,7,17.6ZM5,21V16.75L18.45,3.32a2,2,0,0,1,2.83,0l1.4,1.43a1.91,1.91,0,0,1,.58,1.4,1.91,1.91,0,0,1-.58,1.4L9.25,21ZM18.45,9,17,7.55Zm-12,3A5.31,5.31,0,0,0,4.9,8.1,5.31,5.31,0,0,0,1,6.5,5.31,5.31,0,0,0,4.9,4.9,5.31,5.31,0,0,0,6.5,1,5.31,5.31,0,0,0,8.1,4.9,5.31,5.31,0,0,0,12,6.5,5.46,5.46,0,0,0,6.5,12Z\"/>\n  </svg>\n    </button>\n    <script>\n      (() => {\n      const buttonEl =\n        document.querySelector('#id_abe5c430-37d4-4eab-9a53-fe9ef5172f74 button.colab-df-generate');\n      buttonEl.style.display =\n        google.colab.kernel.accessAllowed ? 'block' : 'none';\n\n      buttonEl.onclick = () => {\n        google.colab.notebook.generateWithVariable('df');\n      }\n      })();\n    </script>\n  </div>\n\n    </div>\n  </div>\n",
                  "application/vnd.google.colaboratory.intrinsic+json": {
                    "type": "dataframe",
                    "variable_name": "df",
                    "summary": "{\n  \"name\": \"df\",\n  \"rows\": 2,\n  \"fields\": [\n    {\n      \"column\": \"Rule\",\n      \"properties\": {\n        \"dtype\": \"string\",\n        \"num_unique_values\": 2,\n        \"samples\": [\n          \"['Celana Gembol'] -> ['Celana Chino']\",\n          \"['Celana Bahan'] -> ['Celana Chino']\"\n        ],\n        \"semantic_type\": \"\",\n        \"description\": \"\"\n      }\n    },\n    {\n      \"column\": \"Support\",\n      \"properties\": {\n        \"dtype\": \"number\",\n        \"std\": 2.3193102422918765,\n        \"min\": 22.95,\n        \"max\": 26.23,\n        \"num_unique_values\": 2,\n        \"samples\": [\n          22.95,\n          26.23\n        ],\n        \"semantic_type\": \"\",\n        \"description\": \"\"\n      }\n    },\n    {\n      \"column\": \"Confidence\",\n      \"properties\": {\n        \"dtype\": \"number\",\n        \"std\": 2.63750829382582,\n        \"min\": 57.14,\n        \"max\": 60.87,\n        \"num_unique_values\": 2,\n        \"samples\": [\n          60.87,\n          57.14\n        ],\n        \"semantic_type\": \"\",\n        \"description\": \"\"\n      }\n    }\n  ]\n}"
                  }
                },
                "metadata": {}
              },
              {
                "output_type": "display_data",
                "data": {
                  "text/plain": "<Figure size 1000x600 with 1 Axes>",
                  "image/png": "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\n"
                },
                "metadata": {}
              }
            ]
          }
        },
        "bfa8636d536c43edaabfa7c0c6920e19": {
          "model_module": "@jupyter-widgets/base",
          "model_name": "LayoutModel",
          "model_module_version": "1.2.0",
          "state": {
            "_model_module": "@jupyter-widgets/base",
            "_model_module_version": "1.2.0",
            "_model_name": "LayoutModel",
            "_view_count": null,
            "_view_module": "@jupyter-widgets/base",
            "_view_module_version": "1.2.0",
            "_view_name": "LayoutView",
            "align_content": null,
            "align_items": null,
            "align_self": null,
            "border": null,
            "bottom": null,
            "display": null,
            "flex": null,
            "flex_flow": null,
            "grid_area": null,
            "grid_auto_columns": null,
            "grid_auto_flow": null,
            "grid_auto_rows": null,
            "grid_column": null,
            "grid_gap": null,
            "grid_row": null,
            "grid_template_areas": null,
            "grid_template_columns": null,
            "grid_template_rows": null,
            "height": null,
            "justify_content": null,
            "justify_items": null,
            "left": null,
            "margin": null,
            "max_height": null,
            "max_width": null,
            "min_height": null,
            "min_width": null,
            "object_fit": null,
            "object_position": null,
            "order": null,
            "overflow": null,
            "overflow_x": null,
            "overflow_y": null,
            "padding": null,
            "right": null,
            "top": null,
            "visibility": null,
            "width": null
          }
        }
      }
    }
  },
  "cells": [
    {
      "cell_type": "code",
      "execution_count": null,
      "metadata": {
        "id": "JxyGg20ZxSLg"
      },
      "outputs": [],
      "source": [
        "# Sumber file = https://www.geeksforgeeks.org/implementing-apriori-algorithm-in-python/"
      ]
    },
    {
      "cell_type": "code",
      "source": [
        "from google.colab import drive\n",
        "drive.mount('/content/drive')"
      ],
      "metadata": {
        "id": "mQg0vFY2xr7j"
      },
      "execution_count": null,
      "outputs": []
    },
    {
      "cell_type": "code",
      "source": [
        "!pip install pandas\n",
        "!pip install numpy\n",
        "!pip install apyori\n",
        "!pip install ipywidgets plotly"
      ],
      "metadata": {
        "id": "H8eKCFfDzi90"
      },
      "execution_count": null,
      "outputs": []
    },
    {
      "cell_type": "code",
      "source": [
        "# Memanggil library yang dibutuhkan\n",
        "import pandas as pd\n",
        "import numpy as np\n",
        "import matplotlib.pyplot as plt\n",
        "import ipywidgets as widgets\n",
        "import plotly.graph_objects as go\n",
        "from IPython.display import display\n",
        "from apyori import apriori"
      ],
      "metadata": {
        "id": "G6lMm5KQ2QPM"
      },
      "execution_count": 49,
      "outputs": []
    },
    {
      "cell_type": "code",
      "source": [
        "# Loading the Data\n",
        "df=pd.read_excel('/content/drive/MyDrive/SkripsiKu/DatasetTokoBusana.xlsx')\n",
        "df.head(10)"
      ],
      "metadata": {
        "id": "ZkB03eWL5eRS"
      },
      "execution_count": null,
      "outputs": []
    },
    {
      "cell_type": "code",
      "source": [
        "# Membuang kolom Tanggal\n",
        "data=df.drop(['Tanggal', 'ID'],axis=1)\n",
        "data.head()"
      ],
      "metadata": {
        "id": "dPT6NNft-d3I"
      },
      "execution_count": null,
      "outputs": []
    },
    {
      "cell_type": "code",
      "source": [
        "# Membuat list dalam list dari transaksi pembelian barang\n",
        "records = []\n",
        "for i in range(data.shape[0]):\n",
        "    records.append([str(data.values[i,j]).split(',') for j in range(data.shape[1])])\n",
        "\n",
        "trx = [[] for trx in range(len(records))]\n",
        "for i in range(len(records)):\n",
        "    for j in records[i][0]:\n",
        "        trx[i].append(j)\n",
        "trx"
      ],
      "metadata": {
        "id": "6W0lcWnHVWwS"
      },
      "execution_count": null,
      "outputs": []
    },
    {
      "cell_type": "code",
      "source": [
        "# Menggunakan fungsi apriori untuk membuat asosiasi\n",
        "association_rules = apriori(trx, min_support=0.22, min_confidence=0.57,min_lift=1)\n",
        "# Membuat list hasil dari algoritma apriori\n",
        "association_results = association_rules"
      ],
      "metadata": {
        "id": "108jGk-SVqSg"
      },
      "execution_count": 47,
      "outputs": []
    },
    {
      "cell_type": "code",
      "source": [
        "# Menampilkan hasil asosiasi dari item\n",
        "pd.set_option('max_colwidth', 1000)\n",
        "Result=pd.DataFrame(columns=['Rule','Support','Confidence'])\n",
        "for item in association_results:\n",
        "    pair = item[2]\n",
        "    for i in pair:\n",
        "        items = str([x for x in i[0]])\n",
        "        if i[3] != 1:\n",
        "            Result.loc[len(Result)] = {\n",
        "                'Rule': str([x for x in i[0]]) + \" -> \" + str([x for x in i[1]]),\n",
        "                'Support': str(round(item[1] * 100, 2)) + '%',\n",
        "                'Confidence': str(round(i[2] * 100, 2)) + '%'\n",
        "            }\n",
        "\n",
        "print(\"Hasil asosiasi:\")\n",
        "print(Result)\n"
      ],
      "metadata": {
        "id": "B0kYoKeLV3Mi",
        "colab": {
          "base_uri": "https://localhost:8080/"
        },
        "outputId": "fd5cc2e2-f31a-4d51-e1f0-a44100260210"
      },
      "execution_count": 48,
      "outputs": [
        {
          "output_type": "stream",
          "name": "stdout",
          "text": [
            "Hasil asosiasi:\n",
            "                                    Rule Support Confidence\n",
            "0   ['Celana Bahan'] -> ['Celana Chino']  26.23%     57.14%\n",
            "1  ['Celana Gembol'] -> ['Celana Chino']  22.95%     60.87%\n"
          ]
        }
      ]
    },
    {
      "cell_type": "code",
      "source": [
        "\n",
        "\n",
        "# # Data hasil asosiasi\n",
        "# data = {\n",
        "#     'Rule': ['[\\'Celana Bahan\\'] -> [\\'Celana Chino\\']', '[\\'Celana Gembol\\'] -> [\\'Celana Chino\\']'],\n",
        "#     'Support': [26.23, 22.95],\n",
        "#     'Confidence': [57.14, 60.87]\n",
        "# }\n",
        "\n",
        "# # Membuat DataFrame\n",
        "# df = pd.DataFrame(data)\n",
        "\n",
        "# # Fungsi untuk menampilkan DataFrame sebagai tabel\n",
        "# def display_table(df):\n",
        "#     display(df)\n",
        "\n",
        "# # Fungsi untuk membuat grafik berdasarkan support dan confidence\n",
        "# def plot_graph(df):\n",
        "#     plt.figure(figsize=(10, 6))\n",
        "#     bar_width = 0.4\n",
        "#     index = range(len(df))\n",
        "\n",
        "#     # Plotting the bars\n",
        "#     bar1 = plt.barh(index, df['Support'], bar_width, color='skyblue', label='Support')  # Warna support\n",
        "#     bar2 = plt.barh(index, df['Confidence'], bar_width, color='salmon', alpha=0.7, left=df['Support'], label='Confidence')  # Warna confidence\n",
        "\n",
        "#     # Adding the values on bars\n",
        "#     for idx, rect in enumerate(bar1):\n",
        "#         plt.text(rect.get_width() - 5, rect.get_y() + rect.get_height()/2, f'{rect.get_width():.2f}%', ha='center', va='center', color='black', fontsize=10)\n",
        "\n",
        "#     for idx, rect in enumerate(bar2):\n",
        "#         plt.text(rect.get_x() + rect.get_width() - 5, rect.get_y() + rect.get_height()/2, f'{rect.get_width():.2f}%', ha='center', va='center', color='black', fontsize=10)\n",
        "\n",
        "#     # Configuring the plot\n",
        "#     plt.xlabel('Percentage')\n",
        "#     plt.title('Support and Confidence of Association Rules')\n",
        "#     plt.yticks(index, df['Rule'])\n",
        "#     plt.legend()\n",
        "#     plt.show()\n",
        "\n",
        "# # Fungsi untuk membuat dashboard\n",
        "# def create_dashboard(df):\n",
        "#     output = widgets.Output()\n",
        "\n",
        "#     with output:\n",
        "#         display_table(df)\n",
        "#         plot_graph(df)\n",
        "\n",
        "#     display(output)\n",
        "\n",
        "# # Menjalankan dashboard\n",
        "# create_dashboard(df)\n"
      ],
      "metadata": {
        "id": "OS3ohdma3a7s"
      },
      "execution_count": null,
      "outputs": []
    },
    {
      "cell_type": "code",
      "source": [
        "# Data hasil asosiasi\n",
        "data = {\n",
        "    'Rule': ['[\\'Celana Bahan\\'] -> [\\'Celana Chino\\']', '[\\'Celana Gembol\\'] -> [\\'Celana Chino\\']'],\n",
        "    'Support': [26.23, 22.95],\n",
        "    'Confidence': [57.14, 60.87]\n",
        "}\n",
        "\n",
        "# Membuat DataFrame\n",
        "df = pd.DataFrame(data)\n",
        "\n",
        "# Fungsi untuk menampilkan DataFrame sebagai tabel\n",
        "def display_table(df):\n",
        "    display(df)\n",
        "\n",
        "# Fungsi untuk membuat grafik berdasarkan support dan confidence\n",
        "def plot_graph(df):\n",
        "    plt.figure(figsize=(10, 6))\n",
        "    bar_width = 0.4\n",
        "    index = range(len(df))\n",
        "\n",
        "    # Plotting the bars\n",
        "    bar1 = plt.barh(index, df['Support'], bar_width, color='skyblue', label='Support')  # Warna support\n",
        "    bar2 = plt.barh(index, df['Confidence'], bar_width, color='salmon', alpha=0.6, left=0, label='Confidence')  # Warna confidence\n",
        "\n",
        "    # Adding the values on bars\n",
        "    for idx, rect in enumerate(bar1):\n",
        "        plt.text(rect.get_width() - 5, rect.get_y() + rect.get_height()/2, f'{rect.get_width():.2f}%', ha='center', va='center', color='black', fontsize=10)\n",
        "\n",
        "    for idx, rect in enumerate(bar2):\n",
        "        plt.text(rect.get_width() - 5, rect.get_y() + rect.get_height()/2, f'{rect.get_width():.2f}%', ha='center', va='center', color='black', fontsize=10)\n",
        "\n",
        "    # Configuring the plot\n",
        "    plt.xlabel('Percentage')\n",
        "    plt.title('Support and Confidence of Association Rules')\n",
        "    plt.yticks(index, df['Rule'])\n",
        "    plt.xlim(0, max(df['Support'].max(), df['Confidence'].max()) + 10)  # Set x-axis limit to accommodate both bars\n",
        "    plt.legend()\n",
        "    plt.show()\n",
        "\n",
        "# Fungsi untuk membuat dashboard\n",
        "def create_dashboard(df):\n",
        "    output = widgets.Output()\n",
        "\n",
        "    with output:\n",
        "        display_table(df)\n",
        "        plot_graph(df)\n",
        "\n",
        "    display(output)\n",
        "\n",
        "# Menjalankan dashboard\n",
        "create_dashboard(df)\n"
      ],
      "metadata": {
        "colab": {
          "base_uri": "https://localhost:8080/",
          "height": 672,
          "referenced_widgets": [
            "0684b46ce702449980a7598b04ab1883",
            "bfa8636d536c43edaabfa7c0c6920e19"
          ]
        },
        "id": "OiMBhyK6-Cu1",
        "outputId": "29107e93-bda8-4fd1-83ad-af5ea0b7d30b"
      },
      "execution_count": 62,
      "outputs": [
        {
          "output_type": "display_data",
          "data": {
            "text/plain": [
              "Output()"
            ],
            "application/vnd.jupyter.widget-view+json": {
              "version_major": 2,
              "version_minor": 0,
              "model_id": "0684b46ce702449980a7598b04ab1883"
            }
          },
          "metadata": {}
        }
      ]
    }
  ]
}